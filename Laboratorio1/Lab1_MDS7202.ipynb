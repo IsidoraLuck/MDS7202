{
  "cells": [
    {
      "cell_type": "markdown",
      "metadata": {
        "id": "J4_IcuuKZj9Y",
        "cell_id": "097fce6dce21405c911254a775ae3d26",
        "deepnote_cell_type": "markdown"
      },
      "source": [
        "<h1><center>Laboratorio 1: Git 👾</center></h1>\n",
        "\n",
        "<center><strong>MDS7202: Laboratorio de Programación Científica para Ciencia de Datos - Primavera 2023</strong></center>"
      ]
    },
    {
      "cell_type": "markdown",
      "metadata": {
        "id": "AEXIACc7aADv",
        "cell_id": "9e8e8f2ae34e461da4f44508a96d2cf4",
        "deepnote_cell_type": "markdown"
      },
      "source": [
        "### Cuerpo Docente:\n",
        "\n",
        "- Profesores: Ignacio Meza, Gabriel Iturra\n",
        "- Auxiliar: Sebastián Tinoco\n",
        "- Ayudante: Arturo Lazcano, Angelo Muñoz"
      ]
    },
    {
      "cell_type": "markdown",
      "metadata": {
        "id": "0HgMMyoCaG8X",
        "cell_id": "3e5b48c23e1b48f6a64de41899166179",
        "deepnote_cell_type": "markdown"
      },
      "source": [
        "### Equipo: SUPER IMPORTANTE - notebooks sin nombre no serán revisados\n",
        "\n",
        "- Nombre de alumno 1: Isidora Luck\n",
        "- Nombre de alumno 2:"
      ]
    },
    {
      "cell_type": "markdown",
      "metadata": {
        "id": "fz77X6glaK6y",
        "cell_id": "1db7c82b68614d19b112ba3b0d0abe4d",
        "deepnote_cell_type": "markdown"
      },
      "source": [
        "### **Link de repositorio de GitHub:** `https://github.com/IsidoraLuck/MDS7202`"
      ]
    },
    {
      "cell_type": "markdown",
      "metadata": {
        "id": "rRwqaxIZaNx3",
        "cell_id": "bc3dac65089d4ae6a43c079547dee179",
        "deepnote_cell_type": "markdown"
      },
      "source": [
        "## Reglas:\n",
        "\n",
        "- Fecha de entrega: 6 días desde la publicación, 3 días de atraso con 1 punto de descuento c/u. Pueden utilizar días bonus sin descuento.\n",
        "- **Grupos de 2 personas**\n",
        "- Asistencia **obligatoria** a instrucciones del lab (viernes 16.15). Luego, pueden quedarse trabajando en las salas o irse.\n",
        "- **Ausentes tienen nota máxima 6.0**.  \n",
        "- Cualquier duda fuera del horario de clases al foro. Mensajes al equipo docente serán respondidos por este medio.\n",
        "- <u>Prohibidas las copias</u>. Cualquier intento de copia será debidamente penalizado con el reglamento de la escuela.\n",
        "- Pueden usar cualquer material del curso que estimen conveniente.\n",
        "- Asistencia obligatoria a instrucciones del lab (viernes 16.15). Luego, pueden quedarse trabajando en las salas o irse."
      ]
    },
    {
      "cell_type": "markdown",
      "metadata": {
        "id": "bmToL27JaSrf",
        "cell_id": "05e4729411a24153837fd13b7f198bd9",
        "deepnote_cell_type": "markdown"
      },
      "source": [
        "## Objetivos del lab:\n",
        "\n",
        "\n",
        "- Conocer los elementos básicos que conformar `Git`\n",
        "- Clonar repositorios\n",
        "- Identificar ramas de un repositorio\n",
        "- Reconocer y solucionar problemas entre ramas\n",
        "- Subir cambios a un repositorio"
      ]
    },
    {
      "cell_type": "markdown",
      "metadata": {
        "id": "bvnPCvrVbJLK",
        "cell_id": "5ebae9d601bd4d508349ab55297e9f82",
        "deepnote_cell_type": "markdown"
      },
      "source": [
        "## Parte 1: Conocimiento Teórico (2.5 pts)\n",
        "\n",
        "<p align=\"center\">\n",
        "  <img src=\"https://cdn.thedesigninspiration.com/wp-content/uploads/sites/3/2019/04/macintosh-hdusersbrittanyloefflerdownloadsanig-1.gif\" width=\"350\">\n",
        "</p>"
      ]
    },
    {
      "cell_type": "markdown",
      "metadata": {
        "id": "JHl-24XnbNLF",
        "cell_id": "627494dba4f84520b3ee8b9cbf58ee79",
        "deepnote_cell_type": "markdown"
      },
      "source": [
        "Responda las siguientes preguntas (0.2 pts c/u):\n",
        "\n",
        "1. ¿Qué es `Git` y cómo se relaciona con el control de versiones?\n",
        "\n",
        "2. Nombre y explique 3 diferencias entre `Git` y `Github`.\n",
        "\n",
        "3. ¿Qué es un `hash` y cómo se representa en un `commit`? De un ejemplo.\n",
        "\n",
        "4. ¿Que elementos componen a la estructura de datos de `Git`?\n",
        "\n",
        "5. ¿Que comandos de `Git` sirven para crear un repositorio y hacer seguimiento a cambios en los archivos?"
      ]
    },
    {
      "cell_type": "markdown",
      "metadata": {
        "id": "2tXCSkf0caG8",
        "cell_id": "6d06c40f429044a298b27c666f51f46f",
        "deepnote_cell_type": "markdown"
      },
      "source": [
        "1.- Git es un sistema de control de versiones distribuido, los VCS distribuidos\n",
        "permiten establecer varios flujos de trabajo, lo cual era una de las limitaciones en sistemas centralizados, esto permite la realización de copias de los repositorios completos. Como se guardan multiples flujos de trabajo se pueden rastrear cambios en archivos y coordinar el trabajo entre múltiples personas, para esto Git almacena el historial de cambios de forma eficiente y permite ramificar y fusionar diferentes líneas de desarrollo.\n",
        "\n",
        "2.- Git es un sistema de control de versiones distribuido (que permite ver cambios a nivel local), mientras que GitHub es una plataforma de alojamiento y colaboración para proyectos Git.\n",
        "\n",
        "Git es una herramienta de linea de comando la cual puede funcionar de manera local (crea repositorio local para trackear cambios a nivel local), mientras que GitHub es un servicio de alojamiento basado en web.\n",
        "\n",
        "Git es un software mientras que GitHub es un servicio web.\n",
        "\n",
        "\n",
        "3.- Un hash en Git es una cadena de letras y números (como un id) que representa un conjunto de datos, como un archivo o un commit. Este hash se utiliza para identificar de manera única ese conjunto de datos en el repositorio de Git.\n",
        "\n",
        "En un commit, el hash se representa como una cadena de 40 caracteres. Por ejemplo, un hash de commit podría verse así:\n",
        "a1b2c3d4e5f6g7h8i9j0k1l2m3n4o5p6q7r8s9t0.\n",
        "\n",
        "4.-La estructura de datos de Git está compuesta por varios elementos clave:\n",
        "\n",
        "Objetos: Estos son los componentes fundamentales de Git y almacenan diferentes tipos de datos, como blobs, trees y commits.\n",
        "\n",
        "Referencias: Las referencias son punteros a objetos específicos en el historial de Git, como branches (ramas) y tags (etiquetas), que ayudan a identificar puntos específicos en la historia del proyecto.\n",
        "\n",
        "Staging area: Es un área intermedia donde se preparan los cambios antes de confirmarlos en un commit. Contiene referencias a los archivos que se incluirán en el próximo commit.\n",
        "\n",
        "\n",
        "5.-Para crear un repositorio Git y comenzar a hacer seguimiento de cambios en archivos, puedes utilizar los siguientes comandos:\n",
        "\n",
        "git init: Este comando se utiliza para crear un nuevo repositorio Git en un directorio.\n",
        "\n",
        "git add: Para hacer seguimiento a cambios en archivos, primero debes agregar los archivos al área de preparación (staging area) con el comando git add.\n",
        "\n",
        "git commit: Una vez que hayas agregado los cambios deseados al área de preparación, puedes confirmarlos en un commit usando git commit.\n",
        "\n",
        "git status: Este comando muestra el estado actual de los archivos en el repositorio, incluyendo los cambios pendientes de confirmación y los archivos que no están bajo seguimiento.\n",
        "\n",
        "git log: Muestra el historial de commits."
      ]
    },
    {
      "cell_type": "markdown",
      "metadata": {
        "id": "MACccbP4gU43",
        "cell_id": "ec9855406e324cc98b59e33500faea84",
        "deepnote_cell_type": "markdown"
      },
      "source": [
        "Responda si las siguientes afirmaciones son Verdaderas (V) o Falsas (F). Justifique en **cualquiera** de los casos (0.2 pts c/u):\n",
        "\n",
        "\n",
        "6. `Git` siempre resuelve automáticamente los problemas de lineas al hacer merge entre diferentes ramas.\n",
        "7. Ejecutar `git pull` sobre un repositorio es equivalente a ejecutar `git clone`.\n",
        "8. `git status` genera los mismos resultados que `git log`.\n",
        "9. En `Git` es posible deshacer cambios y volver a versiones anteriores del código.\n",
        "10. El comando `git commit` se utiliza para enviar cambios al repositorio remoto."
      ]
    },
    {
      "cell_type": "markdown",
      "metadata": {
        "id": "DFnmCToOgeM3",
        "cell_id": "7e6a5a6e15b045cc9d104cf017825f1a",
        "deepnote_cell_type": "markdown"
      },
      "source": [
        "6.-Falso: Si hay conflictos en las líneas modificadas en ambas ramas, Git generará un conflicto que debe ser resuelto manualmente por el usuario antes de que el merge se complete.\n",
        "\n",
        "7.-Falso: git pull se utiliza para actualizar un repositorio local con los cambios del repositorio remoto actual, mientras que git clone se utiliza para crear una copia completa de un repositorio remoto en un nuevo directorio.\n",
        "\n",
        "8.-Falso: git status muestra una lista del estado actual de los archivos en el repositorio, incluyendo los cambios pendientes de confirmación, los archivos no rastreados, mientras que git log muestra el historial de commits del repositorio, incluyendo detalles de los commit.\n",
        "\n",
        "9.-Verdadero: Se puede usar git reset o git revert para volver a un estado anterior en la historia del repositorio.\n",
        "\n",
        "10.-Falso: El comando git commit se utiliza para hacer commit de los cambios en el repositorio local, pero no envía los cambios al repositorio remoto. Para enviar cambios al repositorio remoto, se debe utilizar git push."
      ]
    },
    {
      "cell_type": "markdown",
      "metadata": {
        "cell_id": "54317cad024744ebaf4938df55ba3b95",
        "deepnote_cell_type": "markdown",
        "id": "nILW43rdS-hs"
      },
      "source": [
        "Por último, investigue y comente para qué sirven los siguientes comandos:\n",
        "\n",
        "11. `git stash` (0.25 puntos)\n",
        "12. `git reset`. ¿Cuál es la diferencia de este comando con `git revert`?. (0.25 puntos)"
      ]
    },
    {
      "cell_type": "markdown",
      "source": [
        "11.-git stash es un comando en Git que se utiliza para guardar temporalmente los cambios locales que se han realizado en el directorio de trabajo sin realizar un commit.\n",
        "\n",
        "12.-git reset se usa para deshacer cambios de commits anteriores y \"eliminar\" commits del historial. La diferencia de git reset y git revert es que git revert se utiliza para deshacer cambios de un commit específico y crea un nuevo commit que revierte los cambios introducidos por el commit original."
      ],
      "metadata": {
        "id": "Mh83KJTfBGfT"
      }
    },
    {
      "cell_type": "markdown",
      "metadata": {
        "id": "i7Em9JkbbRLo",
        "cell_id": "3e4d8b9974e4426ca38fd20f4b835a55",
        "deepnote_cell_type": "markdown"
      },
      "source": [
        "## Parte 2: Creando una presentación personal (1.5 pts)\n",
        "\n",
        "<p align=\"center\">\n",
        "  <img src=\"https://media.tenor.com/arqlNu8gyJYAAAAC/cat-cat-jumping.gif\" width=\"150\">\n",
        "</p>\n",
        "\n"
      ]
    },
    {
      "cell_type": "markdown",
      "metadata": {
        "id": "XWIHfyrlbYOJ",
        "cell_id": "988648005dba4b9782c6625dfe6ae4ef",
        "deepnote_cell_type": "markdown"
      },
      "source": [
        "Para empezar a \"*soltar las manos*\" con `Git`, se les encomienda crear un repositorio con una presentación personal. El repositorio debe contener un breve resumen de quienes son ustedes, sus gustos, experiencias, y cualquier otro detalle interesante que ustedes consideren relevante.\n",
        "\n",
        "Para realizar esto, deben seguir los siguientes pasos:\n",
        "\n",
        "1. Contar con una cuenta de github (1 por persona)\n",
        "2. Crear un repositorio con su nombre de usuario\n",
        "3. Vincular el repositorio a su ambiente local ¿Qué comando(s) me permiten hacer esto?\n",
        "4. Crear un archivo `readme.md` con la información que ustedes deseen compartir.\n",
        "5. Realizar `push` con los cambios generados\n",
        "\n",
        "A modo de ejemplo, pueden guiarse por esta *suculenta* [presentación](https://github.com/Mezosky)\n",
        "\n",
        "**Nota: Deben trabajar todos estos puntos desde su ambiente local**\n",
        "\n",
        "*Hint: Una buena opción es usar templates de presentación personal que encuentren en Google, como los que ofrece este [sitio](https://durgeshsamariya.github.io/awesome-github-profile-readme-templates/#/)*.\n",
        "\n",
        "**Entregable:**\n",
        "\n",
        "Enlace al repositorio con la presentación personal.\n",
        "\n",
        "IMPORTANTE: DEBEN ADJUNTAR UN ENLACE POR PERSONA"
      ]
    },
    {
      "cell_type": "markdown",
      "metadata": {
        "id": "IIkWyl9tf0Sg",
        "cell_id": "081b38d55dc54282bc8e3cd300ce9d3e",
        "deepnote_cell_type": "markdown"
      },
      "source": [
        "<code>Link Presentacion 1: https://github.com/IsidoraLuck/IsidoraLuck</code>\n",
        "\n",
        "3.-\n",
        "git config\n",
        "\n",
        "git clone https://github.com/IsidoraLuck/IsidoraLuck.git\n",
        "\n",
        "git push"
      ]
    },
    {
      "cell_type": "markdown",
      "metadata": {
        "id": "CAzXOwvDY-IG",
        "cell_id": "0481a05d2d1a46928f6cfb7762720980",
        "deepnote_cell_type": "markdown"
      },
      "source": [
        "## Parte 3: Trabajando sobre un repositorio externo (2 pts)\n",
        "\n",
        "<p align=\"center\">\n",
        "  <img src=\"https://media.tenor.com/YXL-0SK15j4AAAAC/dance-animals.gif\" width=\"300\">\n",
        "</p>\n",
        "\n",
        "Tras muchos dolores de cabeza, un grupo de entusiastas académicos decidieron aprender sobre `Git` y así trabajar colaborativamente de forma más ordenada y eficiente. Después de una infinidad de intentos y aprender de sus errores \"*a la mala*\", los académicos lograron levantar un [repositorio](https://github.com/MDS7202/lab1) en `Github`. Usando el repositorio de los académicos, responda las siguientes preguntas (**incluya también los comandos en `Git` ocupados**):\n"
      ]
    },
    {
      "cell_type": "markdown",
      "metadata": {
        "id": "BFRnAw0rfguR",
        "cell_id": "bcef73b2e8604579bde90ed6622abfe9",
        "deepnote_cell_type": "markdown"
      },
      "source": [
        "1. Clone el repositorio a su ambiente local. (0.25 pts)"
      ]
    },
    {
      "cell_type": "markdown",
      "metadata": {
        "id": "KXro32yBeilN",
        "cell_id": "5d126ac3819c44479af94d3895bc4c97",
        "deepnote_cell_type": "markdown"
      },
      "source": [
        "<code>git clone https://github.com/MDS7202/lab1.git </code>\n",
        "\n",
        "\n",
        "\n",
        "\n"
      ]
    },
    {
      "cell_type": "markdown",
      "metadata": {
        "cell_id": "e215e4e25b2440f09ac273ba63603986",
        "deepnote_cell_type": "markdown",
        "id": "ecAmK5R2S-ht"
      },
      "source": [
        "2. Descomprima los archivos subidos con la tarea en U-cursos en la carpeta recién clonada de github. Una vez realizado esto, cree un archivo `.gitignore` con el cual omita la carpeta `videos` y los archivos con la extensión `.txt` exceptuando el archivo `171.txt` de la carpeta `texts`. (0.25 pts)"
      ]
    },
    {
      "cell_type": "markdown",
      "metadata": {
        "cell_id": "186233b44d004e3bbd86262d010188b5",
        "deepnote_cell_type": "markdown",
        "id": "7S_9x2UPS-ht"
      },
      "source": [
        "\n",
        "videos/\n",
        "\n",
        "texts/*.txt\n",
        "\n",
        "!texts/171.txt\n",
        "\n",
        ".gitignore\n",
        "\n"
      ]
    },
    {
      "cell_type": "markdown",
      "metadata": {
        "id": "q2qmiDyjt2M_",
        "cell_id": "1de150590a41484a988b8e46616a2324",
        "deepnote_cell_type": "markdown"
      },
      "source": [
        "3. Inspeccione brevemente el repositorio: ¿Cual es el objetivo del proyecto? Explique brevemente la estructura del proyecto, asi como también cada elemento que lo conforma. (0.25 pts)"
      ]
    },
    {
      "cell_type": "markdown",
      "metadata": {
        "id": "aBHpR8VTftkT",
        "cell_id": "082ca01c865e48e28352b280400c47b6",
        "deepnote_cell_type": "markdown"
      },
      "source": [
        "El objetivo del proyecto es crear un programa en Python que permite a los usuarios ingresar el nombre de un animal y recibir una respuesta de sonido característica del animal ingresado.\n",
        "\n",
        "El proyecto esta compuesto por:\n",
        "\n",
        "Carpeta videos: Esta carpeta contiene un video. Sin embargo, debido a la configuración en el archivo .gitignore, los archivos dentro de esta carpeta están siendo ignorados por Git y, por lo tanto, no se incluirán.\n",
        "\n",
        "Carpeta texts: Esta carpeta contiene archivos de texto. Según el .gitignore, se están ignorando todos los archivos en esta carpeta, excepto uno llamado \"171.txt\".\n",
        "\n",
        "Animales.py: Corresponde a una función llamada animales que recibe un input por parte del usuario (el nombre de un animal idealmente) y proporciona una respuesta de sonido específica del animal. Se manejan tres casos: \"gato\", \"perro\" y \"fox\". Si se ingresa \"gato\" y \"perro\" se retorna miau y guau, respectivamente, mientras que si se ingresa \"fox\", se imprime un enlace a un video de YouTube (What does the fox say?).\n",
        "\n",
        "main.py: Este archivo es el punto de entrada principal del programa. Importa la función animales desde el archivo animales.py y permite al usuario ingresar el nombre de un animal. Luego, llama a la función animales para obtener la respuesta relacionada con el sonido del animal ingresado y la imprime en la consola.\n"
      ]
    },
    {
      "cell_type": "markdown",
      "metadata": {
        "id": "XFwqcpLZfylf",
        "cell_id": "3aab4a3ee0c246e1be955680ad653fb8",
        "deepnote_cell_type": "markdown"
      },
      "source": [
        "4. Identifique los últimos cambios al repositorio, reconociendo las principales ramas de trabajo. ¿Son informativos los `commit` realizados? (0.25 pts)\n",
        "*Hint: Se recomienda usar los argumentos `all`, `graph` y `decorate`*"
      ]
    },
    {
      "cell_type": "markdown",
      "metadata": {
        "id": "cmWfXBkOhog0",
        "cell_id": "0fab79a360ac4c6a9ca0ab884f85c7e1",
        "deepnote_cell_type": "markdown"
      },
      "source": [
        "git log --all --graph --decorate --oneline\n",
        "* 25543a3 (en rama origin/fix-ifs) fix ifs\n",
        "* 362fe21 (en ramas HEAD -> main, origin/new_features, origin/main, origin/HEAD) Se separa el proyecto en modulos\n",
        "* c8b1a62 se agrega funcion\n",
        "* b262d86 primer commit\n",
        "\n",
        "Los commit no son informativos, pues tenemos un commit que se llama función sin indicar de que función se trata, en caso de agregar más funciones no se podría usar lo mismo, tambien en un commit se indica el arreglo de ifs, pero no se indica de que función son.\n",
        "\n"
      ]
    },
    {
      "cell_type": "markdown",
      "metadata": {
        "id": "Vqbj9HdXrUnN",
        "cell_id": "d07b24d21f2343fb9a7e6a5db74e98c3",
        "deepnote_cell_type": "markdown"
      },
      "source": [
        "5. Uno de los académicos se da cuenta que la rama principal de trabajo no se ejecuta correctamente para todos los argumentos. Señale y explique el error en el código e identifique a la persona que lo cometió usando `git blame` (0.25 pts)\n",
        "\n",
        "*Hint: Le puede ser útil esta [documentación](https://www.atlassian.com/es/git/tutorials/inspecting-a-repository/git-blame).*"
      ]
    },
    {
      "cell_type": "markdown",
      "source": [
        "El problema en este código es que se utilizan múltiples declaraciones if independientes en lugar de elif. Esto significa que, si se ingresa \"fox\", el programa imprimirá tanto \"guau\" como el enlace de YouTube, lo que no esta bien. Este error lo tiene mezosky en el commit con fecha de 2023-03-23 21:47:34 -0300.\n",
        "\n",
        "*   git blame animales.py\n",
        "*   362fe21e (mezosky 2023-03-23 21:47:34 -0300  1) def animales(input):\n",
        "*   362fe21e (mezosky 2023-03-23 21:47:34 -0300  2)\n",
        "*   362fe21e (mezosky 2023-03-23 21:47:34 -0300  3)     '''\n",
        "*   362fe21e (mezosky 2023-03-23 21:47:34 -0300  4)     Como hace el animalito?\n",
        "*   362fe21e (mezosky 2023-03-23 21:47:34 -0300  5)     '''\n",
        "*   362fe21e (mezosky 2023-03-23 21:47:34 -0300  6)\n",
        "*   362fe21e (mezosky 2023-03-23 21:47:34 -0300  7)     if input.lower() == 'gato':\n",
        "*   362fe21e (mezosky 2023-03-23 21:47:34 -0300  8)         print('miau')\n",
        "*   362fe21e (mezosky 2023-03-23 21:47:34 -0300  9)     if input.lower() == 'perro':\n",
        "*   362fe21e (mezosky 2023-03-23 21:47:34 -0300 10)         print('guau')\n",
        "*   362fe21e (mezosky 2023-03-23 21:47:34 -0300 11)     if input.lower() == 'fox':\n",
        "*   362fe21e (mezosky 2023-03-23 21:47:34 -0300 12)         print('https://www.youtube.com/watch?v=jofNR_WkoCE')\n",
        "*   362fe21e (mezosky 2023-03-23 21:47:34 -0300 13)     else:\n",
        "*   362fe21e (mezosky 2023-03-23 21:47:34 -0300 14)         raise ValueError('animal no reconocido :(')\n",
        "\n"
      ],
      "metadata": {
        "id": "O13CQorwpclK"
      }
    },
    {
      "cell_type": "markdown",
      "metadata": {
        "id": "m8J3uE7MhqTA",
        "cell_id": "f3f4e78e6d9145ebbb120c0a2e4aade6",
        "deepnote_cell_type": "markdown"
      },
      "source": [
        "6. Busque los siguientes `commit`:\n",
        "\n",
        "- `c8b1a62d7299552b0654f930d695b33109214111`\n",
        "- `362fe21ee44f53ee944cee4ba484600308f83d78`\n",
        "- `25543a3baf77292baf849726784ca005473acab1`\n",
        "\n",
        "¿Qué diferencias existen entre cada uno? (0.25 pts)"
      ]
    },
    {
      "cell_type": "markdown",
      "source": [
        "Las principales diferencias se dan dado a que estan hechos por distintos autores, en cada uno se realizan cambios distintos teniendo que:\n",
        "1. `c8b1a62d7299552b0654f930d695b33109214111`\n",
        "\n",
        "   - Se agregó la función `animales(input)` en el archivo `main.py`, que antes no estaba presente.\n",
        "   - La función `animales(input)` incluye lógica para imprimir el sonido característico de los animales ingresados por el usuario.\n",
        "   - Se eliminó un comentario que decía \"# agregar funcion\" en `main.py`.\n",
        "\n",
        "2. `362fe21ee44f53ee944cee4ba484600308f83d78`\n",
        "\n",
        "   - Se creó  `animales.py` que contiene la función `animales(input)` que se agregó en `main.py`. Por esto, en `main.py`, se eliminó la definición de la función `animales(input)` que estaba previamente en ese archivo. Esto implica que la función `animales(input)` ahora se importa desde el archivo `animales.py`.\n",
        "   - En el commit se menciona que se separa el proyecto en módulos.\n",
        "\n",
        "3. `25543a3baf77292baf849726784ca005473acab1`\n",
        "\n",
        "   - Se modificó la lógica de las condiciones en la función `animales(input)` en `main.py`.\n",
        "   - Se cambió el uso de múltiples declaraciones `if` independientes por `elif`, lo que significa que ahora solo se evalúa una condición a la vez.Resolviendo el problema anterior.\n",
        "\n"
      ],
      "metadata": {
        "id": "z4-YLPF6VDtZ"
      }
    },
    {
      "cell_type": "markdown",
      "metadata": {
        "id": "WQIPbfNCgpxC",
        "cell_id": "b4e18f8ce94c430f85915c4e2732d05b",
        "deepnote_cell_type": "markdown"
      },
      "source": [
        "7. Realice una `merge` de la rama `fix-ifs` con la rama `main` y describa lo que ocurre. ¿Qué parte del código podría estar ocasionando esto? (0.25 pts)"
      ]
    },
    {
      "cell_type": "markdown",
      "metadata": {
        "id": "ypH_6lL5ioZz",
        "cell_id": "36da6a0d4f4a427bbccac09e2ae965fd",
        "deepnote_cell_type": "markdown"
      },
      "source": [
        "No se permitia realizar el merge porque habian errores, el problema lo esta causando la rama fix-ifs que contiene errores en el código es el uso incorrecto de declaraciones if en lugar de elif en el código de la función animales(input), lo que logra impedir un merge limpio."
      ]
    },
    {
      "cell_type": "markdown",
      "metadata": {
        "id": "GYfODCjeivkU",
        "cell_id": "09787ab449c543479e5cc54c2a3b6c19",
        "deepnote_cell_type": "markdown"
      },
      "source": [
        "8. Cree una rama nueva y proponga una solución al problema anterior, adjuntando el código corregido y señalando las líneas modificadas. (0.25 pts)"
      ]
    },
    {
      "cell_type": "markdown",
      "metadata": {
        "id": "8heBxDU9iziT",
        "cell_id": "6d963fba3f2d4c17a4b281c7d3f4fb8b",
        "deepnote_cell_type": "markdown"
      },
      "source": [
        "<code>\n",
        "def animales(input):\n",
        "\n",
        "    '''\n",
        "    Como hace el animalito?\n",
        "    '''\n",
        "    \n",
        "    if input.lower() == 'gato':\n",
        "        print('miau')\n",
        "    #Se cambia if por elif en la siguiente linea\n",
        "    elif input.lower() == 'perro':\n",
        "        print('guau')\n",
        "    #Se cambia if por elif en la siguiente linea    \n",
        "    elif input.lower() == 'fox':\n",
        "        print('https://www.youtube.com/watch?v=jofNR_WkoCE')\n",
        "    else:\n",
        "        raise ValueError('animal no reconocido :(')\n",
        "</code>\n",
        "\n",
        "Cambiando esas partes en el código, es posible juntar la nueva rama con el main."
      ]
    },
    {
      "cell_type": "markdown",
      "metadata": {
        "id": "Av8ebB9jkALO",
        "cell_id": "8a47d4bf8b3045d68e4f29bb449c87f1",
        "deepnote_cell_type": "markdown"
      },
      "source": [
        "## Fin"
      ]
    },
    {
      "cell_type": "markdown",
      "metadata": {
        "id": "aQqZT9fSkBK8",
        "cell_id": "cec4b53942ed489f8f8b63d0e9d4f3e5",
        "deepnote_cell_type": "markdown"
      },
      "source": [
        "Eso ha sido todo por ahora!! Esperamos que este laboratorio les haya gustado y servido para trabajar con `Git`. Recuerden los dias de plazo que tienen disponibles y que ante cualquier duda no duden en contactar al equipo docente.\n",
        "\n",
        "Nos vemos!!\n",
        "\n",
        "<p align=\"center\">\n",
        "  <img src=\"https://media.tenor.com/OYLdav9k9LkAAAAd/kitty-cat.gif\" width=\"350\">\n",
        "</p>\n"
      ]
    },
    {
      "cell_type": "markdown",
      "source": [
        "<a style='text-decoration:none;line-height:16px;display:flex;color:#5B5B62;padding:10px;justify-content:end;' href='https://deepnote.com?utm_source=created-in-deepnote-cell&projectId=87110296-876e-426f-b91d-aaf681223468' target=\"_blank\">\n",
        "<img alt='Created in deepnote.com' style='display:inline;max-height:16px;margin:0px;margin-right:7.5px;' src='data:image/svg+xml;base64,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' > </img>\n",
        "Created in <span style='font-weight:600;margin-left:4px;'>Deepnote</span></a>"
      ],
      "metadata": {
        "created_in_deepnote_cell": true,
        "deepnote_cell_type": "markdown",
        "id": "JPjxT4vlS-hw"
      }
    }
  ],
  "nbformat": 4,
  "nbformat_minor": 0,
  "metadata": {
    "colab": {
      "provenance": []
    },
    "deepnote": {},
    "kernelspec": {
      "name": "python3",
      "display_name": "Python 3"
    },
    "language_info": {
      "name": "python"
    },
    "deepnote_notebook_id": "62cd20d52b9a4810ada15644630456dc",
    "deepnote_execution_queue": []
  }
}